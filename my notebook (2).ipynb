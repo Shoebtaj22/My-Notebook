{
  "metadata": {
    "language_info": {
      "codemirror_mode": {
        "name": "python",
        "version": 3
      },
      "file_extension": ".py",
      "mimetype": "text/x-python",
      "name": "python",
      "nbconvert_exporter": "python",
      "pygments_lexer": "ipython3",
      "version": "3.8"
    },
    "kernelspec": {
      "name": "python",
      "display_name": "Pyolite",
      "language": "python"
    }
  },
  "nbformat_minor": 4,
  "nbformat": 4,
  "cells": [
    {
      "cell_type": "markdown",
      "source": "My Jupyter Notebook on IBM Watson Studio",
      "metadata": {
        "tags": []
      }
    },
    {
      "cell_type": "markdown",
      "source": "**MOHD SHOEB TAJ**\nData Scientist ",
      "metadata": {}
    },
    {
      "cell_type": "markdown",
      "source": "𝘐 𝘢𝘮 𝘪𝘯𝘵𝘳𝘦𝘴𝘵𝘦𝘥 𝘪𝘯 𝘋𝘢𝘵𝘢 𝘚𝘤𝘪𝘦𝘯𝘤𝘦 𝘣𝘦𝘤𝘢𝘶𝘴𝘦 𝘵𝘰 𝘣𝘦𝘤𝘰𝘮𝘦 𝘢 𝘋𝘢𝘵𝘢 𝘚𝘤𝘪𝘦𝘯𝘵𝘪𝘴𝘵.",
      "metadata": {}
    },
    {
      "cell_type": "markdown",
      "source": ": My code is consists of a Simple Mathematic operation",
      "metadata": {}
    },
    {
      "cell_type": "code",
      "source": "a=1\nb=2\nprint(a+b)",
      "metadata": {
        "trusted": true
      },
      "execution_count": 1,
      "outputs": [
        {
          "name": "stdout",
          "text": "3\n",
          "output_type": "stream"
        }
      ]
    },
    {
      "cell_type": "markdown",
      "source": "*** jupyter\n- Jupyter Notebook\n1. IBM Watson Studio\n\n~WATSON STUDIO~\n__[youtube](https://www.youtube.com/)__",
      "metadata": {}
    },
    {
      "cell_type": "markdown",
      "source": "",
      "metadata": {}
    }
  ]
}