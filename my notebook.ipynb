{
  "metadata": {
    "language_info": {
      "codemirror_mode": {
        "name": "python",
        "version": 3
      },
      "file_extension": ".py",
      "mimetype": "text/x-python",
      "name": "python",
      "nbconvert_exporter": "python",
      "pygments_lexer": "ipython3",
      "version": "3.8"
    },
    "kernelspec": {
      "name": "python",
      "display_name": "Pyolite",
      "language": "python"
    }
  },
  "nbformat_minor": 4,
  "nbformat": 4,
  "cells": [
    {
      "cell_type": "markdown",
      "source": "My Jupyter Notebook on IBM Watson Studio",
      "metadata": {
        "tags": []
      }
    },
    {
      "cell_type": "markdown",
      "source": "**MOHD SHOEB TAJ**\nData Scientist ",
      "metadata": {}
    },
    {
      "cell_type": "markdown",
      "source": "_I am intrested in Data Science because to become a Data Scientist.",
      "metadata": {}
    },
    {
      "cell_type": "markdown",
      "source": "My code is consists of a Simple Mathematic operation",
      "metadata": {}
    },
    {
      "cell_type": "code",
      "source": "a=1\nb=2\nprint(a+b)",
      "metadata": {
        "trusted": true
      },
      "execution_count": 1,
      "outputs": [
        {
          "name": "stdout",
          "text": "3\n",
          "output_type": "stream"
        }
      ]
    },
    {
      "cell_type": "markdown",
      "source": "*** test\n- texxxxxt\n1. texxxxxxxxt\n\n~texxxxxxxxxxxxt~",
      "metadata": {}
    },
    {
      "cell_type": "markdown",
      "source": "",
      "metadata": {}
    }
  ]
}